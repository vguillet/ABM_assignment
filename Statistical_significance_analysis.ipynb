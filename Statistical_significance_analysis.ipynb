{
 "cells": [
  {
   "cell_type": "markdown",
   "source": [],
   "metadata": {
    "collapsed": false
   }
  },
  {
   "cell_type": "code",
   "execution_count": null,
   "metadata": {
    "collapsed": true,
    "pycharm": {
     "is_executing": true
    }
   },
   "outputs": [],
   "source": [
    "import pandas as pd\n",
    "import matplotlib.pyplot as plt\n",
    "from copy import deepcopy\n",
    "from tabulate import tabulate"
   ]
  },
  {
   "cell_type": "markdown",
   "source": [
    "Load dataset for processing"
   ],
   "metadata": {
    "collapsed": false
   }
  },
  {
   "cell_type": "code",
   "execution_count": null,
   "outputs": [],
   "source": [
    "raw_df = pd.read_csv('results_Distributed.csv')\n",
    "\n",
    "# Print loaded file's head\n",
    "print(raw_df.head())"
   ],
   "metadata": {
    "collapsed": false,
    "pycharm": {
     "is_executing": true
    }
   }
  },
  {
   "cell_type": "markdown",
   "source": [
    "# Data post-processing\n",
    "A new dataframe is created, containing the raw data post processed"
   ],
   "metadata": {
    "collapsed": false
   }
  },
  {
   "cell_type": "code",
   "execution_count": null,
   "outputs": [],
   "source": [
    "# Creating copy of the raw dataframe\n",
    "df = deepcopy(raw_df)\n",
    "\n",
    "# --- Cost analysis\n",
    "# Add column with difference between cost and ideal cost\n",
    "df['total_cost_diff'] = round(df['cost'] - df['ideal_cost'], 3)\n",
    "\n",
    "# Normalise the cost difference per agent with respect to the number of agents\n",
    "df['cost_diff_per_agent'] = round(df['total_cost_diff'] / df['nb_agents'], 3)\n",
    "\n",
    "# Cleaning up the dataframe\n",
    "del df['cost']\n",
    "del df['ideal_cost']\n",
    "del df['total_cost_diff']\n",
    "\n",
    "# Print resulting dataframe's head\n",
    "print(df.head())"
   ],
   "metadata": {
    "collapsed": false,
    "pycharm": {
     "is_executing": true
    }
   }
  },
  {
   "cell_type": "markdown",
   "source": [
    "Furthermore, new dataframes with the data bucketed according to agent count, start type, and map type are created"
   ],
   "metadata": {
    "collapsed": false
   }
  },
  {
   "cell_type": "markdown",
   "source": [
    "## Bucketing by agent count"
   ],
   "metadata": {
    "collapsed": false
   }
  },
  {
   "cell_type": "code",
   "execution_count": null,
   "outputs": [],
   "source": [
    "# Mean\n",
    "df_mean_by_agent_count = df.groupby('nb_agents', as_index=False).mean()\n",
    "\n",
    "# Cleanup dataframe\n",
    "del df_mean_by_agent_count[\"start_type\"]\n",
    "\n",
    "print(\"--> Mean by agent count\")\n",
    "print(df_mean_by_agent_count.head())\n",
    "\n",
    "# Create dataframe from raw data bucketed by agent count\n",
    "df_std_by_agent_count = df.groupby('nb_agents', as_index=False).std()\n",
    "\n",
    "# Cleanup dataframe\n",
    "del df_std_by_agent_count[\"start_type\"]\n",
    "\n",
    "print(\"\\n--> Standard deviation by agent count\")\n",
    "print(df_std_by_agent_count.head())"
   ],
   "metadata": {
    "collapsed": false,
    "pycharm": {
     "is_executing": true
    }
   }
  },
  {
   "cell_type": "markdown",
   "source": [
    "## Bucketing by map type"
   ],
   "metadata": {
    "collapsed": false
   }
  },
  {
   "cell_type": "code",
   "execution_count": 123,
   "outputs": [
    {
     "name": "stdout",
     "output_type": "stream",
     "text": [
      "--> Mean by test name\n",
      "             test_name  run_time  cost_diff_per_agent\n",
      "0  instances/map_1.txt  0.068859             2.960126\n",
      "1  instances/map_2.txt  0.081056             3.134854\n",
      "2  instances/map_3.txt  0.082189             3.902145\n",
      "\n",
      "--> Standard deviation by test name\n",
      "             test_name  run_time  cost_diff_per_agent\n",
      "0  instances/map_1.txt  0.066058             3.835258\n",
      "1  instances/map_2.txt  0.078157             3.538419\n",
      "2  instances/map_3.txt  0.079830             4.936164\n"
     ]
    }
   ],
   "source": [
    "# Mean\n",
    "df_mean_by_test_name = df.groupby('test_name', as_index=False).mean()\n",
    "\n",
    "# Cleanup dataframe\n",
    "del df_mean_by_test_name[\"start_type\"]\n",
    "del df_mean_by_test_name[\"nb_agents\"]\n",
    "\n",
    "print(\"--> Mean by test name\")\n",
    "print(df_mean_by_test_name)\n",
    "\n",
    "# Standard deviation\n",
    "df_std_by_test_name = df.groupby('test_name', as_index=False).std()\n",
    "\n",
    "# Cleanup dataframe\n",
    "del df_std_by_test_name[\"start_type\"]\n",
    "del df_std_by_test_name[\"nb_agents\"]\n",
    "\n",
    "print(\"\\n--> Standard deviation by test name\")\n",
    "print(df_std_by_test_name)"
   ],
   "metadata": {
    "collapsed": false
   }
  },
  {
   "cell_type": "markdown",
   "source": [
    "## Bucketing by start type"
   ],
   "metadata": {
    "collapsed": false
   }
  },
  {
   "cell_type": "code",
   "execution_count": 124,
   "outputs": [
    {
     "name": "stdout",
     "output_type": "stream",
     "text": [
      "--> Mean by start type\n",
      "   start_type  run_time  cost_diff_per_agent\n",
      "0           0  0.042957             2.272790\n",
      "1           1  0.090744             1.679697\n",
      "2           2  0.102121             5.671763\n",
      "\n",
      "--> Standard deviation by start type\n",
      "   start_type  run_time  cost_diff_per_agent\n",
      "0           0  0.038398             2.938513\n",
      "1           1  0.078354             2.465972\n",
      "2           2  0.087015             5.110913\n"
     ]
    }
   ],
   "source": [
    "# Mean\n",
    "df_mean_by_start_type = df.groupby('start_type', as_index=False).mean()\n",
    "\n",
    "# Cleanup dataframe\n",
    "del df_mean_by_start_type[\"nb_agents\"]\n",
    "\n",
    "print(\"--> Mean by start type\")\n",
    "print(df_mean_by_start_type.head())\n",
    "\n",
    "# Standard deviation\n",
    "df_std_by_start_type = df.groupby('start_type', as_index=False).std()\n",
    "\n",
    "# Cleanup dataframe\n",
    "del df_std_by_start_type[\"nb_agents\"]\n",
    "\n",
    "print(\"\\n--> Standard deviation by start type\")\n",
    "print(df_std_by_start_type.head())"
   ],
   "metadata": {
    "collapsed": false
   }
  },
  {
   "cell_type": "markdown",
   "source": [],
   "metadata": {
    "collapsed": false
   }
  },
  {
   "cell_type": "markdown",
   "source": [
    "# Statistical significance analysis"
   ],
   "metadata": {
    "collapsed": false
   }
  },
  {
   "cell_type": "markdown",
   "source": [
    "## Distribution analysis\n",
    "First, an analysis of the dataset's various distributions is perfomed to get good inisght on the results' properties."
   ],
   "metadata": {
    "collapsed": false
   }
  },
  {
   "cell_type": "markdown",
   "source": [
    "### Cost difference per agent\n",
    "The cost difference per agent is first analysed. The first step is to obtain basic statistical properties on the entire dataset."
   ],
   "metadata": {
    "collapsed": false
   }
  },
  {
   "cell_type": "code",
   "execution_count": 125,
   "outputs": [
    {
     "name": "stdout",
     "output_type": "stream",
     "text": [
      "Mean cost difference per agent: 3.331\n",
      "Std cost difference per agent: 4.165\n"
     ]
    }
   ],
   "source": [
    "# Mean cost difference per agent\n",
    "mean_cost_difference_per_agent = round(df['cost_diff_per_agent'].mean(), 3)\n",
    "print(f'Mean cost difference per agent: {mean_cost_difference_per_agent}')\n",
    "\n",
    "# Standard deviation of cost difference per agent\n",
    "std_cost_diff_per_agent = round(df['cost_diff_per_agent'].std(), 3)\n",
    "print(f'Std cost difference per agent: {std_cost_diff_per_agent}')"
   ],
   "metadata": {
    "collapsed": false
   }
  },
  {
   "cell_type": "markdown",
   "source": [
    "The data split into various buckets is then considered, providing further insight on the dataset's statistical properties and basic relationship between key variables. The correlation between the various variables can notably be determined."
   ],
   "metadata": {
    "collapsed": false
   }
  },
  {
   "cell_type": "code",
   "execution_count": 126,
   "outputs": [
    {
     "name": "stdout",
     "output_type": "stream",
     "text": [
      "--> Mean cost difference per agent correlation with agent count\n",
      "Correlation = 0.9937136408986263\n"
     ]
    },
    {
     "data": {
      "text/plain": "<Figure size 640x480 with 1 Axes>",
      "image/png": "[encoded data removed]"
     },
     "metadata": {},
     "output_type": "display_data"
    },
    {
     "name": "stdout",
     "output_type": "stream",
     "text": [
      "--> Std cost difference per agent correlation with agent count\n",
      "Correlation = 0.9814856818640715\n"
     ]
    },
    {
     "data": {
      "text/plain": "<Figure size 640x480 with 1 Axes>",
      "image/png": "[encoded data removed]"
     },
     "metadata": {},
     "output_type": "display_data"
    },
    {
     "name": "stdout",
     "output_type": "stream",
     "text": [
      "--> Cost difference per agent correlation with test type\n"
     ]
    },
    {
     "data": {
      "text/plain": "<Figure size 640x480 with 1 Axes>",
      "image/png": "[encoded data removed]"
     },
     "metadata": {},
     "output_type": "display_data"
    },
    {
     "name": "stdout",
     "output_type": "stream",
     "text": [
      "--> Cost difference per agent correlation with start type\n"
     ]
    },
    {
     "data": {
      "text/plain": "<Figure size 640x480 with 1 Axes>",
      "image/png": "[encoded data removed]"
     },
     "metadata": {},
     "output_type": "display_data"
    }
   ],
   "source": [
    "# --- Correlation with agent count\n",
    "print(\"--> Mean cost difference per agent correlation with agent count\")\n",
    "\n",
    "# Solve for the correlation between the mean cost difference per agent and the agent count\n",
    "correlation_mean_cost_difference_per_agent_and_agent_count = df_mean_by_agent_count['cost_diff_per_agent'].corr(df_mean_by_agent_count['nb_agents'])\n",
    "print(\"Correlation =\", correlation_mean_cost_difference_per_agent_and_agent_count)\n",
    "\n",
    "# Plot the mean per agent count\n",
    "df_mean_by_agent_count['cost_diff_per_agent'].plot(kind='bar')\n",
    "plt.show()\n",
    "\n",
    "print(\"--> Std cost difference per agent correlation with agent count\")\n",
    "# Solve for the correlation between the std cost difference per agent and the agent count\n",
    "correlation_std_cost_difference_per_agent_and_agent_count = df_std_by_agent_count['cost_diff_per_agent'].corr(df_std_by_agent_count['nb_agents'])\n",
    "print(\"Correlation =\", correlation_std_cost_difference_per_agent_and_agent_count)\n",
    "\n",
    "# Plot the mean per agent count\n",
    "df_std_by_agent_count['cost_diff_per_agent'].plot(kind='bar')\n",
    "plt.show()\n",
    "\n",
    "# --- Correlation with test type\n",
    "print(\"--> Cost difference per agent correlation with test type\")\n",
    "\n",
    "# Plot the mean per agent count\n",
    "df_mean_by_test_name['cost_diff_per_agent'].plot(kind='bar')\n",
    "plt.show()\n",
    "\n",
    "# --- Correlation with start type\n",
    "print(\"--> Cost difference per agent correlation with start type\")\n",
    "\n",
    "# Plot the mean per agent count\n",
    "df_mean_by_test_name['cost_diff_per_agent'].plot(kind='bar')\n",
    "plt.show()"
   ],
   "metadata": {
    "collapsed": false
   }
  },
  {
   "cell_type": "markdown",
   "source": [],
   "metadata": {
    "collapsed": false
   }
  },
  {
   "cell_type": "code",
   "execution_count": 127,
   "outputs": [
    {
     "name": "stdout",
     "output_type": "stream",
     "text": [
      "Mean run time: 3.331\n",
      "Std run time: 4.165\n"
     ]
    }
   ],
   "source": [
    "# Mean run time\n",
    "mean_average_deviation_per_agent = round(df['run_time'].mean(), 3)\n",
    "print(f'Mean run time: {mean_cost_difference_per_agent}')\n",
    "\n",
    "# Standard deviation of run time\n",
    "std_average_deviation_per_agent = round(df['run_time'].std(), 3)\n",
    "print(f'Std run time: {std_cost_diff_per_agent}')"
   ],
   "metadata": {
    "collapsed": false
   }
  },
  {
   "cell_type": "code",
   "execution_count": 128,
   "outputs": [
    {
     "name": "stdout",
     "output_type": "stream",
     "text": [
      "--> Mean run time correlation with agent count\n",
      "Correlation = 0.9929971414240587\n"
     ]
    },
    {
     "data": {
      "text/plain": "<Figure size 640x480 with 1 Axes>",
      "image/png": "[encoded data removed]"
     },
     "metadata": {},
     "output_type": "display_data"
    },
    {
     "name": "stdout",
     "output_type": "stream",
     "text": [
      "--> Std run time correlation with agent count\n",
      "Correlation = 0.9913706359085878\n"
     ]
    },
    {
     "data": {
      "text/plain": "<Figure size 640x480 with 1 Axes>",
      "image/png": "[encoded data removed]"
     },
     "metadata": {},
     "output_type": "display_data"
    },
    {
     "name": "stdout",
     "output_type": "stream",
     "text": [
      "--> Average deviation per agent correlation with test type\n"
     ]
    },
    {
     "data": {
      "text/plain": "<Figure size 640x480 with 1 Axes>",
      "image/png": "[encoded data removed]"
     },
     "metadata": {},
     "output_type": "display_data"
    },
    {
     "name": "stdout",
     "output_type": "stream",
     "text": [
      "--> Average deviation per agent correlation with start type\n"
     ]
    },
    {
     "data": {
      "text/plain": "<Figure size 640x480 with 1 Axes>",
      "image/png": "[encoded data removed]"
     },
     "metadata": {},
     "output_type": "display_data"
    }
   ],
   "source": [
    "# --- Correlation with agent count\n",
    "print(\"--> Mean run time correlation with agent count\")\n",
    "# Solve for the correlation between the mean run time and the agent count\n",
    "correlation_mean_run_time_and_agent_count = df_mean_by_agent_count['run_time'].corr(df_mean_by_agent_count['nb_agents'])\n",
    "print(\"Correlation =\", correlation_mean_run_time_and_agent_count)\n",
    "\n",
    "# Plot the mean per agent count\n",
    "df_mean_by_agent_count['run_time'].plot(kind='bar')\n",
    "plt.show()\n",
    "\n",
    "print(\"--> Std run time correlation with agent count\")\n",
    "# Solve for the correlation between the std run time and the agent count\n",
    "correlation_std_run_time_and_agent_count = df_std_by_agent_count['run_time'].corr(df_std_by_agent_count['nb_agents'])\n",
    "print(\"Correlation =\", correlation_std_run_time_and_agent_count)\n",
    "\n",
    "# Plot the mean per agent count\n",
    "df_mean_by_agent_count['run_time'].plot(kind='bar')\n",
    "plt.show()\n",
    "\n",
    "# --- Correlation with test type\n",
    "print(\"--> Average deviation per agent correlation with test type\")\n",
    "\n",
    "# Plot the mean per agent count\n",
    "df_mean_by_test_name['run_time'].plot(kind='bar')\n",
    "plt.show()\n",
    "\n",
    "# --- Correlation with start type\n",
    "print(\"--> Average deviation per agent correlation with start type\")\n",
    "\n",
    "# Plot the mean per agent count\n",
    "df_mean_by_test_name['run_time'].plot(kind='bar')\n",
    "plt.show()"
   ],
   "metadata": {
    "collapsed": false
   }
  },
  {
   "cell_type": "markdown",
   "source": [
    "### Average deviation per agent\n",
    "Finally, the same analysis is performed on the average deviation per agent"
   ],
   "metadata": {
    "collapsed": false
   }
  },
  {
   "cell_type": "code",
   "execution_count": 129,
   "outputs": [
    {
     "ename": "KeyError",
     "evalue": "'avg_deviation_per_agent'",
     "output_type": "error",
     "traceback": [
      "\u001B[1;31m---------------------------------------------------------------------------\u001B[0m",
      "\u001B[1;31mKeyError\u001B[0m                                  Traceback (most recent call last)",
      "File \u001B[1;32m~\\AppData\\Local\\Programs\\Python\\Python310\\lib\\site-packages\\pandas\\core\\indexes\\base.py:3361\u001B[0m, in \u001B[0;36mIndex.get_loc\u001B[1;34m(self, key, method, tolerance)\u001B[0m\n\u001B[0;32m   3360\u001B[0m \u001B[38;5;28;01mtry\u001B[39;00m:\n\u001B[1;32m-> 3361\u001B[0m     \u001B[38;5;28;01mreturn\u001B[39;00m \u001B[38;5;28;43mself\u001B[39;49m\u001B[38;5;241;43m.\u001B[39;49m\u001B[43m_engine\u001B[49m\u001B[38;5;241;43m.\u001B[39;49m\u001B[43mget_loc\u001B[49m\u001B[43m(\u001B[49m\u001B[43mcasted_key\u001B[49m\u001B[43m)\u001B[49m\n\u001B[0;32m   3362\u001B[0m \u001B[38;5;28;01mexcept\u001B[39;00m \u001B[38;5;167;01mKeyError\u001B[39;00m \u001B[38;5;28;01mas\u001B[39;00m err:\n",
      "File \u001B[1;32m~\\AppData\\Local\\Programs\\Python\\Python310\\lib\\site-packages\\pandas\\_libs\\index.pyx:76\u001B[0m, in \u001B[0;36mpandas._libs.index.IndexEngine.get_loc\u001B[1;34m()\u001B[0m\n",
      "File \u001B[1;32m~\\AppData\\Local\\Programs\\Python\\Python310\\lib\\site-packages\\pandas\\_libs\\index.pyx:108\u001B[0m, in \u001B[0;36mpandas._libs.index.IndexEngine.get_loc\u001B[1;34m()\u001B[0m\n",
      "File \u001B[1;32mpandas\\_libs\\hashtable_class_helper.pxi:5198\u001B[0m, in \u001B[0;36mpandas._libs.hashtable.PyObjectHashTable.get_item\u001B[1;34m()\u001B[0m\n",
      "File \u001B[1;32mpandas\\_libs\\hashtable_class_helper.pxi:5206\u001B[0m, in \u001B[0;36mpandas._libs.hashtable.PyObjectHashTable.get_item\u001B[1;34m()\u001B[0m\n",
      "\u001B[1;31mKeyError\u001B[0m: 'avg_deviation_per_agent'",
      "\nThe above exception was the direct cause of the following exception:\n",
      "\u001B[1;31mKeyError\u001B[0m                                  Traceback (most recent call last)",
      "Cell \u001B[1;32mIn [129], line 2\u001B[0m\n\u001B[0;32m      1\u001B[0m \u001B[38;5;66;03m# Mean average deviation per agent\u001B[39;00m\n\u001B[1;32m----> 2\u001B[0m mean_average_deviation_per_agent \u001B[38;5;241m=\u001B[39m \u001B[38;5;28mround\u001B[39m(\u001B[43mdf\u001B[49m\u001B[43m[\u001B[49m\u001B[38;5;124;43m'\u001B[39;49m\u001B[38;5;124;43mavg_deviation_per_agent\u001B[39;49m\u001B[38;5;124;43m'\u001B[39;49m\u001B[43m]\u001B[49m\u001B[38;5;241m.\u001B[39mmean(), \u001B[38;5;241m3\u001B[39m)\n\u001B[0;32m      3\u001B[0m \u001B[38;5;28mprint\u001B[39m(\u001B[38;5;124mf\u001B[39m\u001B[38;5;124m'\u001B[39m\u001B[38;5;124mMean average deviation per agent: \u001B[39m\u001B[38;5;132;01m{\u001B[39;00mmean_cost_difference_per_agent\u001B[38;5;132;01m}\u001B[39;00m\u001B[38;5;124m'\u001B[39m)\n\u001B[0;32m      5\u001B[0m \u001B[38;5;66;03m# Standard deviation of average deviation per agent\u001B[39;00m\n",
      "File \u001B[1;32m~\\AppData\\Local\\Programs\\Python\\Python310\\lib\\site-packages\\pandas\\core\\frame.py:3458\u001B[0m, in \u001B[0;36mDataFrame.__getitem__\u001B[1;34m(self, key)\u001B[0m\n\u001B[0;32m   3456\u001B[0m \u001B[38;5;28;01mif\u001B[39;00m \u001B[38;5;28mself\u001B[39m\u001B[38;5;241m.\u001B[39mcolumns\u001B[38;5;241m.\u001B[39mnlevels \u001B[38;5;241m>\u001B[39m \u001B[38;5;241m1\u001B[39m:\n\u001B[0;32m   3457\u001B[0m     \u001B[38;5;28;01mreturn\u001B[39;00m \u001B[38;5;28mself\u001B[39m\u001B[38;5;241m.\u001B[39m_getitem_multilevel(key)\n\u001B[1;32m-> 3458\u001B[0m indexer \u001B[38;5;241m=\u001B[39m \u001B[38;5;28;43mself\u001B[39;49m\u001B[38;5;241;43m.\u001B[39;49m\u001B[43mcolumns\u001B[49m\u001B[38;5;241;43m.\u001B[39;49m\u001B[43mget_loc\u001B[49m\u001B[43m(\u001B[49m\u001B[43mkey\u001B[49m\u001B[43m)\u001B[49m\n\u001B[0;32m   3459\u001B[0m \u001B[38;5;28;01mif\u001B[39;00m is_integer(indexer):\n\u001B[0;32m   3460\u001B[0m     indexer \u001B[38;5;241m=\u001B[39m [indexer]\n",
      "File \u001B[1;32m~\\AppData\\Local\\Programs\\Python\\Python310\\lib\\site-packages\\pandas\\core\\indexes\\base.py:3363\u001B[0m, in \u001B[0;36mIndex.get_loc\u001B[1;34m(self, key, method, tolerance)\u001B[0m\n\u001B[0;32m   3361\u001B[0m         \u001B[38;5;28;01mreturn\u001B[39;00m \u001B[38;5;28mself\u001B[39m\u001B[38;5;241m.\u001B[39m_engine\u001B[38;5;241m.\u001B[39mget_loc(casted_key)\n\u001B[0;32m   3362\u001B[0m     \u001B[38;5;28;01mexcept\u001B[39;00m \u001B[38;5;167;01mKeyError\u001B[39;00m \u001B[38;5;28;01mas\u001B[39;00m err:\n\u001B[1;32m-> 3363\u001B[0m         \u001B[38;5;28;01mraise\u001B[39;00m \u001B[38;5;167;01mKeyError\u001B[39;00m(key) \u001B[38;5;28;01mfrom\u001B[39;00m \u001B[38;5;21;01merr\u001B[39;00m\n\u001B[0;32m   3365\u001B[0m \u001B[38;5;28;01mif\u001B[39;00m is_scalar(key) \u001B[38;5;129;01mand\u001B[39;00m isna(key) \u001B[38;5;129;01mand\u001B[39;00m \u001B[38;5;129;01mnot\u001B[39;00m \u001B[38;5;28mself\u001B[39m\u001B[38;5;241m.\u001B[39mhasnans:\n\u001B[0;32m   3366\u001B[0m     \u001B[38;5;28;01mraise\u001B[39;00m \u001B[38;5;167;01mKeyError\u001B[39;00m(key)\n",
      "\u001B[1;31mKeyError\u001B[0m: 'avg_deviation_per_agent'"
     ]
    }
   ],
   "source": [
    "# Mean average deviation per agent\n",
    "mean_average_deviation_per_agent = round(df['avg_deviation_per_agent'].mean(), 3)\n",
    "print(f'Mean average deviation per agent: {mean_cost_difference_per_agent}')\n",
    "\n",
    "# Standard deviation of average deviation per agent\n",
    "std_average_deviation_per_agent = round(df['avg_deviation_per_agent'].std(), 3)\n",
    "print(f'Std average deviation per agent: {std_cost_diff_per_agent}')"
   ],
   "metadata": {
    "collapsed": false
   }
  },
  {
   "cell_type": "code",
   "execution_count": null,
   "outputs": [],
   "source": [
    "# --- Correlation with agent count\n",
    "print(\"--> Mean average deviation per agent correlation with agent count\")\n",
    "# Solve for the correlation between the mean average deviation per agent and the agent count\n",
    "correlation_mean_avg_deviation_per_agent_and_agent_count = df_mean_by_agent_count['avg_deviation_per_agent'].corr(df_mean_by_agent_count['nb_agents'])\n",
    "print(\"Correlation =\", correlation_mean_avg_deviation_per_agent_and_agent_count)\n",
    "\n",
    "# Plot the mean per agent count\n",
    "df_mean_by_agent_count['avg_deviation_per_agent'].plot(kind='bar')\n",
    "plt.show()\n",
    "\n",
    "print(\"--> Std average deviation per agent correlation with agent count\")\n",
    "# Solve for the correlation between the std average deviation per agent and the agent count\n",
    "correlation_std_avg_deviation_per_agent_and_agent_count = df_std_by_agent_count['avg_deviation_per_agent'].corr(df_std_by_agent_count['nb_agents'])\n",
    "print(\"Correlation =\", correlation_std_avg_deviation_per_agent_and_agent_count)\n",
    "\n",
    "# Plot the mean per agent count\n",
    "df_mean_by_agent_count['avg_deviation_per_agent'].plot(kind='bar')\n",
    "plt.show()\n",
    "\n",
    "# --- Correlation with test type\n",
    "print(\"--> Average deviation per agent correlation with test type\")\n",
    "\n",
    "# Plot the mean per agent count\n",
    "df_mean_by_test_name['avg_deviation_per_agent'].plot(kind='bar')\n",
    "plt.show()\n",
    "\n",
    "# --- Correlation with start type\n",
    "print(\"--> Average deviation per agent correlation with start type\")\n",
    "\n",
    "# Plot the mean per agent count\n",
    "df_mean_by_test_name['avg_deviation_per_agent'].plot(kind='bar')\n",
    "plt.show()"
   ],
   "metadata": {
    "collapsed": false
   }
  },
  {
   "cell_type": "markdown",
   "source": [
    "## Local Sensitivity analysis\n",
    "A sensitivity analysis of the agent count is performed, providing insight on the impact of the parameter on cost difference mean, standard deviation, and on run time mean.\n",
    "Given the integer nature of the agent count variable, and the constraints in time and processing power available to the team, it was decided to take as reference value an agent count of 6, and gather data on the +4 and -4 range."
   ],
   "metadata": {
    "collapsed": false
   }
  },
  {
   "cell_type": "code",
   "execution_count": 134,
   "outputs": [
    {
     "name": "stdout",
     "output_type": "stream",
     "text": [
      "   nb_agents  run_time  cost_diff_per_agent         S+         S-\n",
      "0          2  0.012648             0.914111   7.628833  -7.628833\n",
      "1          3  0.024287             1.279158   9.441684  -9.441684\n",
      "2          4  0.038964             1.991429  12.025714 -12.025714\n",
      "3          5  0.056556             2.532016  20.807904 -20.807904\n",
      "4          6  0.077298             3.409027       -inf        inf\n",
      "5          7  0.100314             4.109012 -11.345925  11.345925\n",
      "6          8  0.125205             5.179097  -2.462708   2.462708\n",
      "7          9  0.149611             6.004153   0.008306  -0.008306\n",
      "8         10  0.176818             6.983898   1.475848  -1.475848\n"
     ]
    },
    {
     "data": {
      "text/plain": "<Figure size 640x480 with 1 Axes>",
      "image/png": "[encoded data removed]"
     },
     "metadata": {},
     "output_type": "display_data"
    }
   ],
   "source": [
    "# --- Sensitivity analysis of means to agent count\n",
    "reference_value = 6\n",
    "\n",
    "# Positive\n",
    "df_mean_by_agent_count[\"S+\"] = (df_mean_by_agent_count['cost_diff_per_agent'] - reference_value) / ((df_mean_by_agent_count['nb_agents'] - reference_value) / reference_value)\n",
    "\n",
    "\n",
    "\n",
    "# Negative\n",
    "df_mean_by_agent_count[\"S-\"] = (reference_value - df_mean_by_agent_count['cost_diff_per_agent']) / ((df_mean_by_agent_count['nb_agents'] - reference_value) / reference_value)\n",
    "\n",
    "print(df_mean_by_agent_count)\n",
    "\n",
    "# Plot the mean per agent count\n",
    "df_mean_by_agent_count['S+'].plot(kind='line')\n",
    "df_mean_by_agent_count['S-'].plot(kind='line')\n",
    "plt.show()"
   ],
   "metadata": {
    "collapsed": false
   }
  },
  {
   "cell_type": "markdown",
   "source": [
    "# Results\n",
    "The results obtained above are gathered here"
   ],
   "metadata": {
    "collapsed": false
   }
  },
  {
   "cell_type": "code",
   "execution_count": 132,
   "outputs": [
    {
     "name": "stdout",
     "output_type": "stream",
     "text": [
      "==========> Full dataset statistics\n",
      "                      |   Mean |   Std\n",
      "----------------------+--------+-------\n",
      " Cost diff. per agent |  3.331 | 4.165\n",
      " Run time             |  0.077 | 0.075\n",
      "\n",
      "==========> Bucketed dataset statistics\n",
      "-----> Bucketed by agent count\n",
      "--> Mean by agent count\n",
      "   nb_agents  run_time  cost_diff_per_agent         S+         S-\n",
      "0          2  0.012648             0.914111   7.628833  -7.628833\n",
      "1          3  0.024287             1.279158   9.441684  -9.441684\n",
      "2          4  0.038964             1.991429  12.025714 -12.025714\n",
      "3          5  0.056556             2.532016  20.807904 -20.807904\n",
      "4          6  0.077298             3.409027       -inf        inf\n",
      "5          7  0.100314             4.109012 -11.345925  11.345925\n",
      "6          8  0.125205             5.179097  -2.462708   2.462708\n",
      "7          9  0.149611             6.004153   0.008306  -0.008306\n",
      "8         10  0.176818             6.983898   1.475848  -1.475848\n",
      "\n",
      "--> Standard deviation by agent count\n",
      "   nb_agents  run_time  cost_diff_per_agent\n",
      "0          2  0.007722             2.508273\n",
      "1          3  0.014621             2.417342\n",
      "2          4  0.022833             2.964186\n",
      "3          5  0.032904             3.057581\n",
      "4          6  0.044861             3.741972\n",
      "5          7  0.056968             3.887774\n",
      "6          8  0.073857             4.445539\n",
      "7          9  0.086772             4.746422\n",
      "8         10  0.104106             5.510606\n",
      "\n",
      "-----> Bucketed by test name\n",
      "--> Mean by test name\n",
      "             test_name  run_time  cost_diff_per_agent\n",
      "0  instances/map_1.txt  0.068859             2.960126\n",
      "1  instances/map_2.txt  0.081056             3.134854\n",
      "2  instances/map_3.txt  0.082189             3.902145\n",
      "\n",
      "--> Standard deviation by test name\n",
      "             test_name  run_time  cost_diff_per_agent\n",
      "0  instances/map_1.txt  0.066058             3.835258\n",
      "1  instances/map_2.txt  0.078157             3.538419\n",
      "2  instances/map_3.txt  0.079830             4.936164\n",
      "\n",
      "-----> Bucketed by start type\n",
      "--> Mean by start type\n",
      "   start_type  run_time  cost_diff_per_agent\n",
      "0           0  0.042957             2.272790\n",
      "1           1  0.090744             1.679697\n",
      "2           2  0.102121             5.671763\n",
      "\n",
      "--> Standard deviation by start type\n",
      "   start_type  run_time  cost_diff_per_agent\n",
      "0           0  0.038398             2.938513\n",
      "1           1  0.078354             2.465972\n",
      "2           2  0.087015             5.110913\n",
      "\n",
      "==========> Dataset correlation statistics\n",
      "> Correlation with agent count\n"
     ]
    },
    {
     "ename": "NameError",
     "evalue": "name 'correlation_mean_avg_deviation_per_agent_and_agent_count' is not defined",
     "output_type": "error",
     "traceback": [
      "\u001B[1;31m---------------------------------------------------------------------------\u001B[0m",
      "\u001B[1;31mNameError\u001B[0m                                 Traceback (most recent call last)",
      "Cell \u001B[1;32mIn [132], line 41\u001B[0m\n\u001B[0;32m     36\u001B[0m \u001B[38;5;28mprint\u001B[39m(\u001B[38;5;124m\"\u001B[39m\u001B[38;5;130;01m\\n\u001B[39;00m\u001B[38;5;124m==========> Dataset correlation statistics\u001B[39m\u001B[38;5;124m\"\u001B[39m)\n\u001B[0;32m     37\u001B[0m \u001B[38;5;28mprint\u001B[39m(\u001B[38;5;124m\"\u001B[39m\u001B[38;5;124m> Correlation with agent count\u001B[39m\u001B[38;5;124m\"\u001B[39m)\n\u001B[0;32m     38\u001B[0m table \u001B[38;5;241m=\u001B[39m [\n\u001B[0;32m     39\u001B[0m     [\u001B[38;5;124m\"\u001B[39m\u001B[38;5;124m\"\u001B[39m, \u001B[38;5;124m\"\u001B[39m\u001B[38;5;124mMean\u001B[39m\u001B[38;5;124m\"\u001B[39m, \u001B[38;5;124m\"\u001B[39m\u001B[38;5;124mStd. deviation\u001B[39m\u001B[38;5;124m\"\u001B[39m],\n\u001B[0;32m     40\u001B[0m     [\u001B[38;5;124m\"\u001B[39m\u001B[38;5;124mCost diff. per agent\u001B[39m\u001B[38;5;124m\"\u001B[39m, correlation_mean_cost_difference_per_agent_and_agent_count, correlation_std_cost_difference_per_agent_and_agent_count],\n\u001B[1;32m---> 41\u001B[0m     [\u001B[38;5;124m\"\u001B[39m\u001B[38;5;124mAvg. deviation per agent\u001B[39m\u001B[38;5;124m\"\u001B[39m, \u001B[43mcorrelation_mean_avg_deviation_per_agent_and_agent_count\u001B[49m, correlation_std_avg_deviation_per_agent_and_agent_count],\n\u001B[0;32m     42\u001B[0m     [\u001B[38;5;124m\"\u001B[39m\u001B[38;5;124mRun time\u001B[39m\u001B[38;5;124m\"\u001B[39m, correlation_mean_run_time_and_agent_count, correlation_std_run_time_and_agent_count]\n\u001B[0;32m     43\u001B[0m ]\n\u001B[0;32m     45\u001B[0m \u001B[38;5;28mprint\u001B[39m(tabulate(\n\u001B[0;32m     46\u001B[0m     table,\n\u001B[0;32m     47\u001B[0m     headers\u001B[38;5;241m=\u001B[39m\u001B[38;5;124m\"\u001B[39m\u001B[38;5;124mfirstrow\u001B[39m\u001B[38;5;124m\"\u001B[39m,\n\u001B[0;32m     48\u001B[0m     tablefmt\u001B[38;5;241m=\u001B[39m\u001B[38;5;124m\"\u001B[39m\u001B[38;5;124mpresto\u001B[39m\u001B[38;5;124m\"\u001B[39m\n\u001B[0;32m     49\u001B[0m ))\n",
      "\u001B[1;31mNameError\u001B[0m: name 'correlation_mean_avg_deviation_per_agent_and_agent_count' is not defined"
     ]
    }
   ],
   "source": [
    "# Distribution analysis (full set)\n",
    "\n",
    "print(\"==========> Full dataset statistics\")\n",
    "table = [\n",
    "    [\"\", \"Mean\", \"Std\"],\n",
    "    [\"Cost diff. per agent\", mean_cost_difference_per_agent, std_cost_diff_per_agent],\n",
    "    # [\"Avg. deviation per agent\", mean_average_deviation_per_agent, std_average_deviation_per_agent],\n",
    "    [\"Run time\", mean_average_deviation_per_agent, std_average_deviation_per_agent]\n",
    "]\n",
    "\n",
    "print(tabulate(\n",
    "    table,\n",
    "    headers=\"firstrow\",\n",
    "    tablefmt=\"presto\"\n",
    "))\n",
    "\n",
    "print(\"\\n==========> Bucketed dataset statistics\")\n",
    "print(\"-----> Bucketed by agent count\")\n",
    "print(\"--> Mean by agent count\")\n",
    "print(df_mean_by_agent_count)\n",
    "print(\"\\n--> Standard deviation by agent count\")\n",
    "print(df_std_by_agent_count)\n",
    "\n",
    "print(\"\\n-----> Bucketed by test name\")\n",
    "print(\"--> Mean by test name\")\n",
    "print(df_mean_by_test_name)\n",
    "print(\"\\n--> Standard deviation by test name\")\n",
    "print(df_std_by_test_name)\n",
    "\n",
    "print(\"\\n-----> Bucketed by start type\")\n",
    "print(\"--> Mean by start type\")\n",
    "print(df_mean_by_start_type)\n",
    "print(\"\\n--> Standard deviation by start type\")\n",
    "print(df_std_by_start_type)\n",
    "\n",
    "print(\"\\n==========> Dataset correlation statistics\")\n",
    "print(\"> Correlation with agent count\")\n",
    "table = [\n",
    "    [\"\", \"Mean\", \"Std. deviation\"],\n",
    "    [\"Cost diff. per agent\", correlation_mean_cost_difference_per_agent_and_agent_count, correlation_std_cost_difference_per_agent_and_agent_count],\n",
    "    [\"Avg. deviation per agent\", correlation_mean_avg_deviation_per_agent_and_agent_count, correlation_std_avg_deviation_per_agent_and_agent_count],\n",
    "    [\"Run time\", correlation_mean_run_time_and_agent_count, correlation_std_run_time_and_agent_count]\n",
    "]\n",
    "\n",
    "print(tabulate(\n",
    "    table,\n",
    "    headers=\"firstrow\",\n",
    "    tablefmt=\"presto\"\n",
    "))"
   ],
   "metadata": {
    "collapsed": false
   }
  },
  {
   "cell_type": "code",
   "execution_count": null,
   "outputs": [],
   "source": [],
   "metadata": {
    "collapsed": false
   }
  }
 ],
 "metadata": {
  "kernelspec": {
   "display_name": "Python 3",
   "language": "python",
   "name": "python3"
  },
  "language_info": {
   "codemirror_mode": {
    "name": "ipython",
    "version": 2
   },
   "file_extension": ".py",
   "mimetype": "text/x-python",
   "name": "python",
   "nbconvert_exporter": "python",
   "pygments_lexer": "ipython2",
   "version": "2.7.6"
  }
 },
 "nbformat": 4,
 "nbformat_minor": 0
}
