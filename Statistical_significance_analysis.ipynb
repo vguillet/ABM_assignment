{
 "cells": [
  {
   "cell_type": "markdown",
   "source": [],
   "metadata": {
    "collapsed": false
   }
  },
  {
   "cell_type": "code",
   "execution_count": null,
   "metadata": {
    "collapsed": true,
    "pycharm": {
     "is_executing": true
    }
   },
   "outputs": [],
   "source": [
    "import pandas as pd\n",
    "import matplotlib.pyplot as plt\n",
    "from copy import deepcopy\n",
    "from tabulate import tabulate"
   ]
  },
  {
   "cell_type": "markdown",
   "source": [
    "Load dataset for processing"
   ],
   "metadata": {
    "collapsed": false
   }
  },
  {
   "cell_type": "code",
   "execution_count": null,
   "outputs": [],
   "source": [
    "raw_df = pd.read_csv('results_CBS_v1.csv')\n",
    "\n",
    "# Print loaded file's head\n",
    "print(raw_df.head())"
   ],
   "metadata": {
    "collapsed": false
   }
  },
  {
   "cell_type": "markdown",
   "source": [
    "# Data post-processing\n",
    "A new dataframe is created, containing the raw data post processed"
   ],
   "metadata": {
    "collapsed": false
   }
  },
  {
   "cell_type": "code",
   "execution_count": null,
   "outputs": [],
   "source": [
    "# Creating copy of the raw dataframe\n",
    "df = deepcopy(raw_df)\n",
    "\n",
    "# --- Cost analysis\n",
    "# Add column with difference between cost and ideal cost\n",
    "df['total_cost_diff'] = round(df['cost'] - df['ideal_cost'], 3)\n",
    "\n",
    "# Normalise the cost difference per agent with respect to the number of agents\n",
    "df['cost_diff_per_agent'] = round(df['total_cost_diff'] / df['nb_agents'], 3)\n",
    "\n",
    "# Cleaning up the dataframe\n",
    "del df['cost']\n",
    "del df['ideal_cost']\n",
    "del df['total_cost_diff']\n",
    "\n",
    "# Print resulting dataframe's head\n",
    "print(df.head())"
   ],
   "metadata": {
    "collapsed": false
   }
  },
  {
   "cell_type": "markdown",
   "source": [
    "Furthermore, new dataframes with the data bucketed according to agent count, start type, and map type are created"
   ],
   "metadata": {
    "collapsed": false
   }
  },
  {
   "cell_type": "markdown",
   "source": [
    "## Bucketing by agent count"
   ],
   "metadata": {
    "collapsed": false
   }
  },
  {
   "cell_type": "code",
   "execution_count": null,
   "outputs": [],
   "source": [
    "# Mean\n",
    "df_mean_by_agent_count = df.groupby('nb_agents', as_index=False).mean()\n",
    "\n",
    "# Cleanup dataframe\n",
    "del df_mean_by_agent_count[\"start_type\"]\n",
    "\n",
    "print(\"--> Mean by agent count\")\n",
    "print(df_mean_by_agent_count.head())\n",
    "\n",
    "# Create dataframe from raw data bucketed by agent count\n",
    "df_std_by_agent_count = df.groupby('nb_agents', as_index=False).std()\n",
    "\n",
    "# Cleanup dataframe\n",
    "del df_std_by_agent_count[\"start_type\"]\n",
    "\n",
    "print(\"\\n--> Standard deviation by agent count\")\n",
    "print(df_std_by_agent_count.head())"
   ],
   "metadata": {
    "collapsed": false
   }
  },
  {
   "cell_type": "markdown",
   "source": [
    "## Bucketing by map type"
   ],
   "metadata": {
    "collapsed": false
   }
  },
  {
   "cell_type": "code",
   "execution_count": null,
   "outputs": [],
   "source": [
    "# Mean\n",
    "df_mean_by_test_name = df.groupby('test_name', as_index=False).mean()\n",
    "\n",
    "# Cleanup dataframe\n",
    "del df_mean_by_test_name[\"start_type\"]\n",
    "del df_mean_by_test_name[\"nb_agents\"]\n",
    "\n",
    "print(\"--> Mean by test name\")\n",
    "print(df_mean_by_test_name)\n",
    "\n",
    "# Standard deviation\n",
    "df_std_by_test_name = df.groupby('test_name', as_index=False).std()\n",
    "\n",
    "# Cleanup dataframe\n",
    "del df_std_by_test_name[\"start_type\"]\n",
    "del df_std_by_test_name[\"nb_agents\"]\n",
    "\n",
    "print(\"\\n--> Standard deviation by test name\")\n",
    "print(df_std_by_test_name)"
   ],
   "metadata": {
    "collapsed": false
   }
  },
  {
   "cell_type": "markdown",
   "source": [
    "## Bucketing by start type"
   ],
   "metadata": {
    "collapsed": false
   }
  },
  {
   "cell_type": "code",
   "execution_count": null,
   "outputs": [],
   "source": [
    "# Mean\n",
    "df_mean_by_start_type = df.groupby('start_type', as_index=False).mean()\n",
    "\n",
    "# Cleanup dataframe\n",
    "del df_mean_by_start_type[\"nb_agents\"]\n",
    "\n",
    "print(\"--> Mean by start type\")\n",
    "print(df_mean_by_start_type.head())\n",
    "\n",
    "# Standard deviation\n",
    "df_std_by_start_type = df.groupby('start_type', as_index=False).std()\n",
    "\n",
    "# Cleanup dataframe\n",
    "del df_std_by_start_type[\"nb_agents\"]\n",
    "\n",
    "print(\"\\n--> Standard deviation by start type\")\n",
    "print(df_std_by_start_type.head())"
   ],
   "metadata": {
    "collapsed": false
   }
  },
  {
   "cell_type": "markdown",
   "source": [],
   "metadata": {
    "collapsed": false
   }
  },
  {
   "cell_type": "markdown",
   "source": [
    "# Statistical significance analysis"
   ],
   "metadata": {
    "collapsed": false
   }
  },
  {
   "cell_type": "markdown",
   "source": [
    "## Distribution analysis\n",
    "First, an analysis of the dataset's various distributions is perfomed to get good inisght on the results' properties."
   ],
   "metadata": {
    "collapsed": false
   }
  },
  {
   "cell_type": "markdown",
   "source": [
    "### Cost difference per agent\n",
    "The cost difference per agent is first analysed. The first step is to obtain basic statistical properties on the entire dataset."
   ],
   "metadata": {
    "collapsed": false
   }
  },
  {
   "cell_type": "code",
   "execution_count": null,
   "outputs": [],
   "source": [
    "# Mean cost difference per agent\n",
    "mean_cost_difference_per_agent = round(df['cost_diff_per_agent'].mean(), 3)\n",
    "print(f'Mean cost difference per agent: {mean_cost_difference_per_agent}')\n",
    "\n",
    "# Standard deviation of cost difference per agent\n",
    "std_cost_diff_per_agent = round(df['cost_diff_per_agent'].std(), 3)\n",
    "print(f'Std cost difference per agent: {std_cost_diff_per_agent}')"
   ],
   "metadata": {
    "collapsed": false
   }
  },
  {
   "cell_type": "markdown",
   "source": [
    "The data split into various buckets is then considered, providing further insight on the dataset's statistical properties and basic relationship between key variables. The correlation between the various variables can notably be determined."
   ],
   "metadata": {
    "collapsed": false
   }
  },
  {
   "cell_type": "code",
   "execution_count": null,
   "outputs": [],
   "source": [
    "# --- Correlation with agent count\n",
    "print(\"--> Mean cost difference per agent correlation with agent count\")\n",
    "\n",
    "# Solve for the correlation between the mean cost difference per agent and the agent count\n",
    "correlation_mean_cost_difference_per_agent_and_agent_count = df_mean_by_agent_count['cost_diff_per_agent'].corr(df_mean_by_agent_count['nb_agents'])\n",
    "print(\"Correlation =\", correlation_mean_cost_difference_per_agent_and_agent_count)\n",
    "\n",
    "# Plot the mean per agent count\n",
    "df_mean_by_agent_count['cost_diff_per_agent'].plot(kind='bar')\n",
    "plt.show()\n",
    "\n",
    "print(\"--> Std cost difference per agent correlation with agent count\")\n",
    "# Solve for the correlation between the std cost difference per agent and the agent count\n",
    "correlation_std_cost_difference_per_agent_and_agent_count = df_std_by_agent_count['cost_diff_per_agent'].corr(df_std_by_agent_count['nb_agents'])\n",
    "print(\"Correlation =\", correlation_std_cost_difference_per_agent_and_agent_count)\n",
    "\n",
    "# Plot the mean per agent count\n",
    "df_std_by_agent_count['cost_diff_per_agent'].plot(kind='bar')\n",
    "plt.show()\n",
    "\n",
    "# --- Correlation with test type\n",
    "print(\"--> Cost difference per agent mean by test type (map type)\")\n",
    "\n",
    "# Plot the mean per agent count\n",
    "df_mean_by_test_name['cost_diff_per_agent'].plot(kind='bar')\n",
    "plt.show()\n",
    "\n",
    "# --- Correlation with start type\n",
    "print(\"--> Cost difference per agent mean by start type\")\n",
    "\n",
    "# Plot the mean per agent count\n",
    "df_mean_by_test_name['cost_diff_per_agent'].plot(kind='bar')\n",
    "plt.show()"
   ],
   "metadata": {
    "collapsed": false
   }
  },
  {
   "cell_type": "markdown",
   "source": [],
   "metadata": {
    "collapsed": false
   }
  },
  {
   "cell_type": "code",
   "execution_count": null,
   "outputs": [],
   "source": [
    "# Mean run time\n",
    "mean_average_deviation_per_agent = round(df['run_time'].mean(), 3)\n",
    "print(f'Mean run time: {mean_cost_difference_per_agent}')\n",
    "\n",
    "# Standard deviation of run time\n",
    "std_average_deviation_per_agent = round(df['run_time'].std(), 3)\n",
    "print(f'Std run time: {std_cost_diff_per_agent}')"
   ],
   "metadata": {
    "collapsed": false
   }
  },
  {
   "cell_type": "code",
   "execution_count": null,
   "outputs": [],
   "source": [
    "# --- Correlation with agent count\n",
    "print(\"--> Mean run time correlation with agent count\")\n",
    "# Solve for the correlation between the mean run time and the agent count\n",
    "correlation_mean_run_time_and_agent_count = df_mean_by_agent_count['run_time'].corr(df_mean_by_agent_count['nb_agents'])\n",
    "print(\"Correlation =\", correlation_mean_run_time_and_agent_count)\n",
    "\n",
    "# Plot the mean per agent count\n",
    "df_mean_by_agent_count['run_time'].plot(kind='bar')\n",
    "plt.show()\n",
    "\n",
    "print(\"--> Std run time correlation with agent count\")\n",
    "# Solve for the correlation between the std run time and the agent count\n",
    "correlation_std_run_time_and_agent_count = df_std_by_agent_count['run_time'].corr(df_std_by_agent_count['nb_agents'])\n",
    "print(\"Correlation =\", correlation_std_run_time_and_agent_count)\n",
    "\n",
    "# Plot the mean per agent count\n",
    "df_mean_by_agent_count['run_time'].plot(kind='bar')\n",
    "plt.show()\n",
    "\n",
    "# --- Correlation with test type\n",
    "print(\"--> Average deviation mean by test type (map type)\")\n",
    "\n",
    "# Plot the mean per agent count\n",
    "df_mean_by_test_name['run_time'].plot(kind='bar')\n",
    "plt.show()\n",
    "\n",
    "# --- Correlation with start type\n",
    "print(\"--> Average deviation mean by start type\")\n",
    "\n",
    "# Plot the mean per agent count\n",
    "df_mean_by_test_name['run_time'].plot(kind='bar')\n",
    "plt.show()"
   ],
   "metadata": {
    "collapsed": false
   }
  },
  {
   "cell_type": "markdown",
   "source": [
    "### Average deviation\n",
    "Finally, the same analysis is performed on the average deviation"
   ],
   "metadata": {
    "collapsed": false
   }
  },
  {
   "cell_type": "code",
   "execution_count": null,
   "outputs": [],
   "source": [
    "# Mean average deviation\n",
    "mean_average_deviation_per_agent = round(df['avg_deviation'].mean(), 3)\n",
    "print(f'Mean average deviation: {mean_cost_difference_per_agent}')\n",
    "\n",
    "# Standard deviation of average deviation\n",
    "std_average_deviation_per_agent = round(df['avg_deviation'].std(), 3)\n",
    "print(f'Std average deviation: {std_cost_diff_per_agent}')"
   ],
   "metadata": {
    "collapsed": false
   }
  },
  {
   "cell_type": "code",
   "execution_count": null,
   "outputs": [],
   "source": [
    "# --- Correlation with agent count\n",
    "print(\"--> Mean average deviation correlation with agent count\")\n",
    "# Solve for the correlation between the mean average deviation and the agent count\n",
    "correlation_mean_avg_deviation_and_agent_count = df_mean_by_agent_count['avg_deviation'].corr(df_mean_by_agent_count['nb_agents'])\n",
    "print(\"Correlation =\", correlation_mean_avg_deviation_and_agent_count)\n",
    "\n",
    "# Plot the mean per agent count\n",
    "df_mean_by_agent_count['avg_deviation'].plot(kind='bar')\n",
    "plt.show()\n",
    "\n",
    "print(\"--> Std average deviation correlation with agent count\")\n",
    "# Solve for the correlation between the std average deviation and the agent count\n",
    "correlation_std_avg_deviation_and_agent_count = df_std_by_agent_count['avg_deviation'].corr(df_std_by_agent_count['nb_agents'])\n",
    "print(\"Correlation =\", correlation_std_avg_deviation_and_agent_count)\n",
    "\n",
    "# Plot the mean per agent count\n",
    "df_mean_by_agent_count['avg_deviation'].plot(kind='bar')\n",
    "plt.show()\n",
    "\n",
    "# --- Correlation with test type\n",
    "print(\"--> Average deviation mean by with test type (map type)\")\n",
    "\n",
    "# Plot the mean per agent count\n",
    "df_mean_by_test_name['avg_deviation'].plot(kind='bar')\n",
    "plt.show()\n",
    "\n",
    "# --- Correlation with start type\n",
    "print(\"--> Average deviation mean by start type\")\n",
    "\n",
    "# Plot the mean per agent count\n",
    "df_mean_by_test_name['avg_deviation'].plot(kind='bar')\n",
    "plt.show()"
   ],
   "metadata": {
    "collapsed": false
   }
  },
  {
   "cell_type": "markdown",
   "source": [
    "## Local Sensitivity analysis\n",
    "A sensitivity analysis of the agent count is performed, providing insight on the impact of the parameter on cost difference mean, standard deviation, and on run time mean.\n",
    "Given the integer nature of the agent count variable, and the constraints in time and processing power available to the team, it was decided to take as reference value an agent count of 6, and gather data on the +4 and -4 range."
   ],
   "metadata": {
    "collapsed": false
   }
  },
  {
   "cell_type": "code",
   "execution_count": null,
   "outputs": [],
   "source": [
    "# --- Sensitivity analysis of means to agent count\n",
    "reference_value = 3.5\n",
    "\n",
    "# Positive\n",
    "df_mean_by_agent_count[\"S+\"] = (df_mean_by_agent_count['cost_diff_per_agent'] - reference_value) / ((df_mean_by_agent_count['nb_agents'] - reference_value) / reference_value)\n",
    "\n",
    "\n",
    "\n",
    "# Negative\n",
    "df_mean_by_agent_count[\"S-\"] = (reference_value - df_mean_by_agent_count['cost_diff_per_agent']) / ((df_mean_by_agent_count['nb_agents'] - reference_value) / reference_value)\n",
    "\n",
    "print(df_mean_by_agent_count)\n",
    "\n",
    "# Plot the mean per agent count\n",
    "df_mean_by_agent_count['S+'].plot(kind='line')\n",
    "df_mean_by_agent_count['S-'].plot(kind='line')\n",
    "plt.show()"
   ],
   "metadata": {
    "collapsed": false
   }
  },
  {
   "cell_type": "markdown",
   "source": [
    "# Results\n",
    "The results obtained above are gathered here"
   ],
   "metadata": {
    "collapsed": false
   }
  },
  {
   "cell_type": "code",
   "execution_count": null,
   "outputs": [],
   "source": [
    "# Distribution analysis (full set)\n",
    "\n",
    "print(\"==========> Full dataset statistics\")\n",
    "table = [\n",
    "    [\"\", \"Mean\", \"Std\"],\n",
    "    [\"Cost diff. per agent\", mean_cost_difference_per_agent, std_cost_diff_per_agent],\n",
    "    # [\"Avg. deviation per agent\", mean_average_deviation_per_agent, std_average_deviation_per_agent],\n",
    "    [\"Run time\", mean_average_deviation_per_agent, std_average_deviation_per_agent]\n",
    "]\n",
    "\n",
    "print(tabulate(\n",
    "    table,\n",
    "    headers=\"firstrow\",\n",
    "    tablefmt=\"presto\"\n",
    "))\n",
    "\n",
    "print(\"\\n==========> Bucketed dataset statistics\")\n",
    "print(\"-----> Bucketed by agent count\")\n",
    "print(\"--> Mean by agent count\")\n",
    "print(df_mean_by_agent_count)\n",
    "print(\"\\n--> Standard deviation by agent count\")\n",
    "print(df_std_by_agent_count)\n",
    "\n",
    "print(\"\\n-----> Bucketed by test name\")\n",
    "print(\"--> Mean by test name\")\n",
    "print(df_mean_by_test_name)\n",
    "print(\"\\n--> Standard deviation by test name\")\n",
    "print(df_std_by_test_name)\n",
    "\n",
    "print(\"\\n-----> Bucketed by start type\")\n",
    "print(\"--> Mean by start type\")\n",
    "print(df_mean_by_start_type)\n",
    "print(\"\\n--> Standard deviation by start type\")\n",
    "print(df_std_by_start_type)\n",
    "\n",
    "print(\"\\n==========> Dataset correlation statistics\")\n",
    "print(\"> Correlation with agent count\")\n",
    "table = [\n",
    "    [\"\", \"Mean\", \"Std. deviation\"],\n",
    "    [\"Cost diff. per agent\", correlation_mean_cost_difference_per_agent_and_agent_count, correlation_std_cost_difference_per_agent_and_agent_count],\n",
    "    [\"Avg. deviation per agent\", correlation_mean_avg_deviation_and_agent_count, correlation_std_avg_deviation_and_agent_count],\n",
    "    [\"Run time\", correlation_mean_run_time_and_agent_count, correlation_std_run_time_and_agent_count]\n",
    "]\n",
    "\n",
    "print(tabulate(\n",
    "    table,\n",
    "    headers=\"firstrow\",\n",
    "    tablefmt=\"presto\"\n",
    "))"
   ],
   "metadata": {
    "collapsed": false
   }
  },
  {
   "cell_type": "code",
   "execution_count": null,
   "outputs": [],
   "source": [],
   "metadata": {
    "collapsed": false
   }
  }
 ],
 "metadata": {
  "kernelspec": {
   "display_name": "Python 3",
   "language": "python",
   "name": "python3"
  },
  "language_info": {
   "codemirror_mode": {
    "name": "ipython",
    "version": 2
   },
   "file_extension": ".py",
   "mimetype": "text/x-python",
   "name": "python",
   "nbconvert_exporter": "python",
   "pygments_lexer": "ipython2",
   "version": "2.7.6"
  }
 },
 "nbformat": 4,
 "nbformat_minor": 0
}
